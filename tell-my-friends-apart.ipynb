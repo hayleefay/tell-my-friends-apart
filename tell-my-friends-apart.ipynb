{
 "cells": [
  {
   "cell_type": "code",
   "execution_count": 20,
   "id": "internal-edition",
   "metadata": {},
   "outputs": [
    {
     "name": "stdout",
     "output_type": "stream",
     "text": [
      "The dotenv extension is already loaded. To reload it, use:\n",
      "  %reload_ext dotenv\n"
     ]
    }
   ],
   "source": [
    "import os\n",
    "%load_ext dotenv\n",
    "%dotenv\n",
    "key = os.environ.get('BING_KEY')\n",
    "from fastbook import *"
   ]
  },
  {
   "cell_type": "code",
   "execution_count": 31,
   "id": "transparent-crazy",
   "metadata": {},
   "outputs": [
    {
     "data": {
      "text/plain": [
       "150"
      ]
     },
     "execution_count": 31,
     "metadata": {},
     "output_type": "execute_result"
    }
   ],
   "source": [
    "results = search_images_bing(key, 'timothee chalamet')\n",
    "ims = results.attrgot('contentUrl')\n",
    "len(ims)"
   ]
  },
  {
   "cell_type": "code",
   "execution_count": 38,
   "id": "israeli-niger",
   "metadata": {},
   "outputs": [],
   "source": [
    "friends = ['ben', 'elizabeth', 'andy', 'sam', 'stef', 'haylee']\n",
    "doppelgangers = ['timothee chalamet', 'florence pugh', 'ed helms', 'ryan eggold', 'elizabeth olsen', 'zooey deschanel']\n",
    "path = Path('data')"
   ]
  },
  {
   "cell_type": "code",
   "execution_count": 40,
   "id": "fancy-definition",
   "metadata": {},
   "outputs": [],
   "source": [
    "if not path.exists():\n",
    "    path.mkdir()\n",
    "    for friend, doppelganger in zip(friends, doppelgangers):\n",
    "        dest = (path/friend)\n",
    "        dest.mkdir(exist_ok=True)\n",
    "        results = search_images_bing(key, doppelganger)\n",
    "        download_images(dest, urls=results.attrgot('contentUrl'))"
   ]
  },
  {
   "cell_type": "code",
   "execution_count": null,
   "id": "pending-chase",
   "metadata": {},
   "outputs": [],
   "source": []
  }
 ],
 "metadata": {
  "kernelspec": {
   "display_name": "Python 3",
   "language": "python",
   "name": "python3"
  },
  "language_info": {
   "codemirror_mode": {
    "name": "ipython",
    "version": 3
   },
   "file_extension": ".py",
   "mimetype": "text/x-python",
   "name": "python",
   "nbconvert_exporter": "python",
   "pygments_lexer": "ipython3",
   "version": "3.9.1"
  }
 },
 "nbformat": 4,
 "nbformat_minor": 5
}
